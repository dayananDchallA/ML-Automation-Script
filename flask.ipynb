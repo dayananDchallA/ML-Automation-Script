{
 "cells": [
  {
   "cell_type": "code",
   "execution_count": 1,
   "metadata": {},
   "outputs": [],
   "source": [
    "import pandas as pd\n",
    "from EDA.OutlierHandling import OutlierHandling\n",
    "from EDA.Encoding import Encoding\n",
    "from EDA.NullHandling import NullHandling\n",
    "from EDA.ColumnTypeIdentification import ColumnTypeIdentification\n",
    "from EDA.FeatureReduction import FeatureReduction\n",
    "import warnings\n",
    "warnings.filterwarnings(\"ignore\")\n",
    "import threading\n",
    "from Modelling.Classification import Classification\n",
    "from sklearn.metrics import accuracy_score,f1_score\n",
    "from itertools import product\n",
    "from pathlib import Path"
   ]
  },
  {
   "cell_type": "code",
   "execution_count": 2,
   "metadata": {},
   "outputs": [],
   "source": [
    "from MLAccelerator import MLAccelerator"
   ]
  },
  {
   "cell_type": "code",
   "execution_count": 3,
   "metadata": {},
   "outputs": [],
   "source": [
    "from flask import Flask, render_template, request, redirect, url_for\n",
    "import pandas as pd\n",
    "app = Flask(__name__)\n",
    "\n",
    "# render webpage\n",
    "@app.route('/')\n",
    "def home():\n",
    "    return render_template('Home.html')\n",
    "\n",
    "\n",
    "@app.route('/', methods=['POST', 'GET'])\n",
    "def get_data():\n",
    "    if request.method == 'POST':\n",
    "        flag_list ={}\n",
    "        final_list={}\n",
    "        metric_dict={'accuracy_score':accuracy_score,'f1_score':f1_score}\n",
    "        flag_list['outlier']=request.form.getlist('outlier')\n",
    "        flag_list['nullhandle']=request.form.getlist('nullhandle')\n",
    "        flag_list['feature']=request.form.getlist('feature')\n",
    "        flag_list['encoding']=request.form.getlist('encoding')\n",
    "        flag_list['metric']=request.form.getlist('metric')\n",
    "        flag_list['model']=request.form.getlist('model')\n",
    "        for key in flag_list:\n",
    "            if not flag_list[key]:\n",
    "                final_list[key] = [None]\n",
    "            else:\n",
    "                final_list[key] = flag_list[key]\n",
    "        df = pd.read_csv(request.files.get('file'),delimiter=',')      \n",
    "        y = request.form['target']\n",
    "        ml=MLAccelerator(df,y,final_list,metric_dict)\n",
    "        result=ml.execute()\n",
    "        return result\n",
    "    "
   ]
  },
  {
   "cell_type": "code",
   "execution_count": null,
   "metadata": {
    "scrolled": true
   },
   "outputs": [
    {
     "name": "stdout",
     "output_type": "stream",
     "text": [
      " * Serving Flask app \"__main__\" (lazy loading)\n",
      " * Environment: production\n",
      "   WARNING: Do not use the development server in a production environment.\n",
      "   Use a production WSGI server instead.\n",
      " * Debug mode: off\n"
     ]
    },
    {
     "name": "stderr",
     "output_type": "stream",
     "text": [
      " * Running on http://127.0.0.1:5000/ (Press CTRL+C to quit)\n",
      "127.0.0.1 - - [18/May/2020 16:35:39] \"GET / HTTP/1.1\" 200 -\n",
      "127.0.0.1 - - [18/May/2020 16:35:39] \"GET /Home_files/font-awesome.min.css HTTP/1.1\" 404 -\n"
     ]
    },
    {
     "name": "stdout",
     "output_type": "stream",
     "text": [
      "[<function accuracy_score at 0x0000022942585268>]\n",
      "Running Thread: 0\n",
      "100%|█████████████████████████████████████████████| 100/100 [00:16<00:00,  5.66trial/s, best loss: -0.8715083798882681]\n"
     ]
    },
    {
     "name": "stderr",
     "output_type": "stream",
     "text": [
      "127.0.0.1 - - [18/May/2020 16:37:33] \"POST / HTTP/1.1\" 200 -\n",
      "127.0.0.1 - - [18/May/2020 16:38:13] \"GET / HTTP/1.1\" 200 -\n"
     ]
    }
   ],
   "source": [
    "app.run()"
   ]
  },
  {
   "cell_type": "code",
   "execution_count": null,
   "metadata": {},
   "outputs": [],
   "source": []
  },
  {
   "cell_type": "code",
   "execution_count": null,
   "metadata": {},
   "outputs": [],
   "source": [
    "            \n",
    "        dispatcher = {'accuracy_score': accuracy_score}\n",
    "        print(dispatcher[final_list['metric']])"
   ]
  },
  {
   "cell_type": "code",
   "execution_count": null,
   "metadata": {},
   "outputs": [],
   "source": [
    "        flag_list = {}\n",
    "            for key in final_list:\n",
    "            if not final_list[key]:\n",
    "                flag_list[key] = False\n",
    "            else:\n",
    "                flag_list[key] = True"
   ]
  },
  {
   "cell_type": "code",
   "execution_count": null,
   "metadata": {},
   "outputs": [],
   "source": [
    "#outlier_list = request.form.getlist('outlier')\n",
    "#nullhandle_list = request.form.getlist('nullhandle')\n",
    "#feature_list = request.form.getlist('feature')\n",
    "#encoding_list = request.form.getlist('encoding')\n",
    "#metric_list = request.form.getlist('metric')"
   ]
  }
 ],
 "metadata": {
  "kernelspec": {
   "display_name": "Python 3",
   "language": "python",
   "name": "python3"
  },
  "language_info": {
   "codemirror_mode": {
    "name": "ipython",
    "version": 3
   },
   "file_extension": ".py",
   "mimetype": "text/x-python",
   "name": "python",
   "nbconvert_exporter": "python",
   "pygments_lexer": "ipython3",
   "version": "3.7.0"
  }
 },
 "nbformat": 4,
 "nbformat_minor": 2
}
