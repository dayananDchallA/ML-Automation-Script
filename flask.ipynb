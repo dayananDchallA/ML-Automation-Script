{
 "cells": [
  {
   "cell_type": "code",
   "execution_count": 1,
   "metadata": {},
   "outputs": [],
   "source": [
    "import pandas as pd\n",
    "from EDA.OutlierHandling import OutlierHandling\n",
    "from EDA.Encoding import Encoding\n",
    "from EDA.NullHandling import NullHandling\n",
    "from EDA.ColumnTypeIdentification import ColumnTypeIdentification\n",
    "from EDA.FeatureReduction import FeatureReduction\n",
    "import warnings\n",
    "warnings.filterwarnings(\"ignore\")\n",
    "import threading\n",
    "from Modelling.Classification import Classification\n",
    "from sklearn.metrics import accuracy_score,f1_score\n",
    "from itertools import product\n",
    "from pathlib import Path"
   ]
  },
  {
   "cell_type": "code",
   "execution_count": 2,
   "metadata": {},
   "outputs": [],
   "source": [
    "from MLAccelerator import MLAccelerator"
   ]
  },
  {
   "cell_type": "code",
   "execution_count": 3,
   "metadata": {},
   "outputs": [],
   "source": [
    "from flask import Flask, render_template, request, redirect, url_for\n",
    "import pandas as pd\n",
    "app = Flask(__name__)\n",
    "\n",
    "# render webpage\n",
    "@app.route('/')\n",
    "def home():\n",
    "    return render_template('Home.html')\n",
    "\n",
    "\n",
    "@app.route('/', methods=['POST', 'GET'])\n",
    "def get_data():\n",
    "    if request.method == 'POST':\n",
    "        flag_list ={}\n",
    "        final_list={}\n",
    "        metric_dict={'accuracy_score':accuracy_score,'f1_score':f1_score}\n",
    "        flag_list['outlier']=request.form.getlist('outlier')\n",
    "        flag_list['nullhandle']=request.form.getlist('nullhandle')\n",
    "        flag_list['feature']=request.form.getlist('feature')\n",
    "        flag_list['encoding']=request.form.getlist('encoding')\n",
    "        flag_list['metric']=request.form.getlist('metric')\n",
    "        flag_list['model']=request.form.getlist('model')\n",
    "        for key in flag_list:\n",
    "            if not flag_list[key]:\n",
    "                final_list[key] = [None]\n",
    "            else:\n",
    "                final_list[key] = flag_list[key]\n",
    "        df = pd.read_csv(request.files.get('file'),delimiter=',')\n",
    "        cols= list(df)\n",
    "        return redirect(url_for('push_data', columns=cols))\n",
    "\n",
    "\n",
    "# get the data for the requested query\n",
    "@app.route('/push_data/<columns>')\n",
    "def push_data(columns):\n",
    "    return render_template('Home.html',data = columns)\n",
    "\n",
    "            "
   ]
  },
  {
   "cell_type": "code",
   "execution_count": null,
   "metadata": {
    "scrolled": true
   },
   "outputs": [
    {
     "name": "stdout",
     "output_type": "stream",
     "text": [
      " * Serving Flask app \"__main__\" (lazy loading)\n",
      " * Environment: production\n",
      "   WARNING: Do not use the development server in a production environment.\n",
      "   Use a production WSGI server instead.\n",
      " * Debug mode: off\n"
     ]
    },
    {
     "name": "stderr",
     "output_type": "stream",
     "text": [
      " * Running on http://127.0.0.1:5000/ (Press CTRL+C to quit)\n",
      "127.0.0.1 - - [19/May/2020 14:22:07] \"GET / HTTP/1.1\" 200 -\n",
      "127.0.0.1 - - [19/May/2020 14:22:07] \"GET /Home_files/font-awesome.min.css HTTP/1.1\" 404 -\n",
      "127.0.0.1 - - [19/May/2020 14:22:14] \"POST / HTTP/1.1\" 302 -\n",
      "127.0.0.1 - - [19/May/2020 14:22:14] \"GET /push_data/Index%28%5B%27PassengerId%27%2C%20%27Survived%27%2C%20%27Pclass%27%2C%20%27Name%27%2C%20%27Sex%27%2C%20%27Age%27%2C%20%27SibSp%27%2C%0A%20%20%20%20%20%20%20%27Parch%27%2C%20%27Ticket%27%2C%20%27Fare%27%2C%20%27Cabin%27%2C%20%27Embarked%27%5D%2C%0A%20%20%20%20%20%20dtype%3D%27object%27%29 HTTP/1.1\" 200 -\n",
      "127.0.0.1 - - [19/May/2020 14:22:14] \"GET /push_data/Home_files/font-awesome.min.css HTTP/1.1\" 404 -\n"
     ]
    }
   ],
   "source": [
    "app.run()"
   ]
  },
  {
   "cell_type": "code",
   "execution_count": null,
   "metadata": {},
   "outputs": [],
   "source": []
  },
  {
   "cell_type": "code",
   "execution_count": null,
   "metadata": {},
   "outputs": [],
   "source": []
  },
  {
   "cell_type": "code",
   "execution_count": 2,
   "metadata": {},
   "outputs": [
    {
     "data": {
      "text/plain": [
       "['PassengerId',\n",
       " 'Survived',\n",
       " 'Pclass',\n",
       " 'Name',\n",
       " 'Sex',\n",
       " 'Age',\n",
       " 'SibSp',\n",
       " 'Parch',\n",
       " 'Ticket',\n",
       " 'Fare',\n",
       " 'Cabin',\n",
       " 'Embarked']"
      ]
     },
     "execution_count": 2,
     "metadata": {},
     "output_type": "execute_result"
    }
   ],
   "source": [
    "import pandas as pd\n",
    "df = pd.read_csv(\"train.csv\")\n",
    "list(df)"
   ]
  },
  {
   "cell_type": "code",
   "execution_count": null,
   "metadata": {},
   "outputs": [],
   "source": [
    "#!/usr/bin/env python\n",
    "# coding: utf-8\n",
    "\n",
    "# In[1]:\n",
    "\n",
    "\n",
    "import pandas as pd\n",
    "from EDA.OutlierHandling import OutlierHandling\n",
    "from EDA.Encoding import Encoding\n",
    "from EDA.NullHandling import NullHandling\n",
    "from EDA.ColumnTypeIdentification import ColumnTypeIdentification\n",
    "from EDA.FeatureReduction import FeatureReduction\n",
    "import warnings\n",
    "warnings.filterwarnings(\"ignore\")\n",
    "import threading\n",
    "from Modelling.Classification import Classification\n",
    "from sklearn.metrics import accuracy_score,f1_score\n",
    "from itertools import product\n",
    "from pathlib import Path\n",
    "import json \n",
    "\n",
    "\n",
    "# In[2]:\n",
    "\n",
    "\n",
    "from MLAccelerator import MLAccelerator\n",
    "\n",
    "\n",
    "# In[3]:\n",
    "\n",
    "\n",
    "from flask import Flask, render_template, request, redirect, url_for\n",
    "import pandas as pd\n",
    "app = Flask(__name__)\n",
    "\n",
    "\n",
    "# render webpage\n",
    "@app.route('/')\n",
    "def index():\n",
    "    return render_template('index.html')\n",
    "\n",
    "\n",
    "@app.route('/upload', methods=['POST', 'GET'])\n",
    "def upload():\n",
    "    if request.method == 'POST':\n",
    "        df = pd.read_csv(request.files.get('file'),delimiter=',')\n",
    "        df.to_csv('dataframe.csv',index= False)\n",
    "        cols= list(df)\n",
    "        return redirect(url_for('push_data', columns=cols))\n",
    "\n",
    "\n",
    "@app.route('/push_data/<columns>')\n",
    "def push_data(columns):\n",
    "    columns = columns.replace('[','').replace(']','').replace(\"'\",'').split(',')\n",
    "    return render_template('Home.html',data = columns)\n",
    "\n",
    "\n",
    "@app.route('/submit',methods=['POST', 'GET'])   \n",
    "def submit():\n",
    "    if request.method == 'POST':\n",
    "        flag_list ={}\n",
    "        final_list={}\n",
    "        cols_list=[]\n",
    "        metric_dict={'accuracy_score':accuracy_score,'f1_score':f1_score}\n",
    "        flag_list['outlier']=request.form.getlist('outlier')\n",
    "        flag_list['nullhandle']=request.form.getlist('nullhandle')\n",
    "        flag_list['feature']=request.form.getlist('feature')\n",
    "        flag_list['encoding']=request.form.getlist('encoding')\n",
    "        flag_list['metric']=request.form.getlist('metric')\n",
    "        flag_list['model']=request.form.getlist('model')\n",
    "        cols_list = request.form.getlist('columns')\n",
    "        for key in flag_list:\n",
    "            if not flag_list[key]:\n",
    "                final_list[key] = [None]\n",
    "            else:\n",
    "                final_list[key] = flag_list[key]\n",
    "        print(final_list)\n",
    "        y = request.form['target']\n",
    "        df=pd.read_csv('dataframe.csv')\n",
    "        ml=MLAccelerator(df[cols_list],y,final_list,metric_dict)\n",
    "        result=ml.execute()\n",
    "        result_final=[]\n",
    "        for key in results:\n",
    "            result_final.append(results[key])\n",
    "        l=[]\n",
    "        for dict_ in result_final:\n",
    "            sample_=dict_\n",
    "            d1={}\n",
    "            i=0\n",
    "            dict_1=sample_['Hyperparameter']\n",
    "            d1['model']=dict_1['model']\n",
    "            d1['score']=sample_['score']\n",
    "            d1['log']=sample_['log']\n",
    "            d1['log']\n",
    "            l.append(d1)\n",
    "        temp=0\n",
    "        for d2 in l:\n",
    "            if d2['score']>temp:\n",
    "                temp=d2['score']\n",
    "        l1=[]\n",
    "        for d2 in l:\n",
    "            if d2['score']==temp:\n",
    "                d2['best_flag']='Yes'\n",
    "            else:\n",
    "                d2['best_flag']='No'\n",
    "            l1.append(d2)\n",
    "# In[ ]:\n",
    "\n",
    "app.run()\n",
    "\n",
    "\n",
    "\n",
    "\n"
   ]
  },
  {
   "cell_type": "code",
   "execution_count": null,
   "metadata": {},
   "outputs": [],
   "source": []
  },
  {
   "cell_type": "code",
   "execution_count": null,
   "metadata": {},
   "outputs": [],
   "source": [
    "        y = request.form['target']\n",
    "        ml=MLAccelerator(df,y,final_list,metric_dict)\n",
    "        result=ml.execute()\n",
    "        return result"
   ]
  },
  {
   "cell_type": "code",
   "execution_count": null,
   "metadata": {},
   "outputs": [],
   "source": []
  },
  {
   "cell_type": "code",
   "execution_count": null,
   "metadata": {},
   "outputs": [],
   "source": []
  },
  {
   "cell_type": "code",
   "execution_count": 2,
   "metadata": {},
   "outputs": [],
   "source": [
    "import pandas as pd"
   ]
  },
  {
   "cell_type": "code",
   "execution_count": 10,
   "metadata": {},
   "outputs": [],
   "source": [
    "data = pd.read_json(r'train_nlp.json')"
   ]
  },
  {
   "cell_type": "code",
   "execution_count": 11,
   "metadata": {},
   "outputs": [
    {
     "data": {
      "text/html": [
       "<div>\n",
       "<style scoped>\n",
       "    .dataframe tbody tr th:only-of-type {\n",
       "        vertical-align: middle;\n",
       "    }\n",
       "\n",
       "    .dataframe tbody tr th {\n",
       "        vertical-align: top;\n",
       "    }\n",
       "\n",
       "    .dataframe thead th {\n",
       "        text-align: right;\n",
       "    }\n",
       "</style>\n",
       "<table border=\"1\" class=\"dataframe\">\n",
       "  <thead>\n",
       "    <tr style=\"text-align: right;\">\n",
       "      <th></th>\n",
       "      <th>id</th>\n",
       "      <th>cuisine</th>\n",
       "      <th>ingredients</th>\n",
       "    </tr>\n",
       "  </thead>\n",
       "  <tbody>\n",
       "    <tr>\n",
       "      <th>0</th>\n",
       "      <td>10259</td>\n",
       "      <td>greek</td>\n",
       "      <td>[romaine lettuce, black olives, grape tomatoes...</td>\n",
       "    </tr>\n",
       "    <tr>\n",
       "      <th>1</th>\n",
       "      <td>25693</td>\n",
       "      <td>southern_us</td>\n",
       "      <td>[plain flour, ground pepper, salt, tomatoes, g...</td>\n",
       "    </tr>\n",
       "    <tr>\n",
       "      <th>2</th>\n",
       "      <td>20130</td>\n",
       "      <td>filipino</td>\n",
       "      <td>[eggs, pepper, salt, mayonaise, cooking oil, g...</td>\n",
       "    </tr>\n",
       "    <tr>\n",
       "      <th>3</th>\n",
       "      <td>22213</td>\n",
       "      <td>indian</td>\n",
       "      <td>[water, vegetable oil, wheat, salt]</td>\n",
       "    </tr>\n",
       "    <tr>\n",
       "      <th>4</th>\n",
       "      <td>13162</td>\n",
       "      <td>indian</td>\n",
       "      <td>[black pepper, shallots, cornflour, cayenne pe...</td>\n",
       "    </tr>\n",
       "  </tbody>\n",
       "</table>\n",
       "</div>"
      ],
      "text/plain": [
       "      id      cuisine                                        ingredients\n",
       "0  10259        greek  [romaine lettuce, black olives, grape tomatoes...\n",
       "1  25693  southern_us  [plain flour, ground pepper, salt, tomatoes, g...\n",
       "2  20130     filipino  [eggs, pepper, salt, mayonaise, cooking oil, g...\n",
       "3  22213       indian                [water, vegetable oil, wheat, salt]\n",
       "4  13162       indian  [black pepper, shallots, cornflour, cayenne pe..."
      ]
     },
     "execution_count": 11,
     "metadata": {},
     "output_type": "execute_result"
    }
   ],
   "source": [
    "data.head()"
   ]
  },
  {
   "cell_type": "code",
   "execution_count": 12,
   "metadata": {},
   "outputs": [],
   "source": [
    "data.to_csv('train_nlp.csv',index = False)"
   ]
  },
  {
   "cell_type": "code",
   "execution_count": 13,
   "metadata": {},
   "outputs": [],
   "source": [
    "data1 = pd.read_csv('train_nlp.csv')"
   ]
  },
  {
   "cell_type": "code",
   "execution_count": 14,
   "metadata": {},
   "outputs": [
    {
     "data": {
      "text/html": [
       "<div>\n",
       "<style scoped>\n",
       "    .dataframe tbody tr th:only-of-type {\n",
       "        vertical-align: middle;\n",
       "    }\n",
       "\n",
       "    .dataframe tbody tr th {\n",
       "        vertical-align: top;\n",
       "    }\n",
       "\n",
       "    .dataframe thead th {\n",
       "        text-align: right;\n",
       "    }\n",
       "</style>\n",
       "<table border=\"1\" class=\"dataframe\">\n",
       "  <thead>\n",
       "    <tr style=\"text-align: right;\">\n",
       "      <th></th>\n",
       "      <th>id</th>\n",
       "      <th>cuisine</th>\n",
       "      <th>ingredients</th>\n",
       "    </tr>\n",
       "  </thead>\n",
       "  <tbody>\n",
       "    <tr>\n",
       "      <th>0</th>\n",
       "      <td>10259</td>\n",
       "      <td>greek</td>\n",
       "      <td>['romaine lettuce', 'black olives', 'grape tom...</td>\n",
       "    </tr>\n",
       "    <tr>\n",
       "      <th>1</th>\n",
       "      <td>25693</td>\n",
       "      <td>southern_us</td>\n",
       "      <td>['plain flour', 'ground pepper', 'salt', 'toma...</td>\n",
       "    </tr>\n",
       "    <tr>\n",
       "      <th>2</th>\n",
       "      <td>20130</td>\n",
       "      <td>filipino</td>\n",
       "      <td>['eggs', 'pepper', 'salt', 'mayonaise', 'cooki...</td>\n",
       "    </tr>\n",
       "    <tr>\n",
       "      <th>3</th>\n",
       "      <td>22213</td>\n",
       "      <td>indian</td>\n",
       "      <td>['water', 'vegetable oil', 'wheat', 'salt']</td>\n",
       "    </tr>\n",
       "    <tr>\n",
       "      <th>4</th>\n",
       "      <td>13162</td>\n",
       "      <td>indian</td>\n",
       "      <td>['black pepper', 'shallots', 'cornflour', 'cay...</td>\n",
       "    </tr>\n",
       "  </tbody>\n",
       "</table>\n",
       "</div>"
      ],
      "text/plain": [
       "      id      cuisine                                        ingredients\n",
       "0  10259        greek  ['romaine lettuce', 'black olives', 'grape tom...\n",
       "1  25693  southern_us  ['plain flour', 'ground pepper', 'salt', 'toma...\n",
       "2  20130     filipino  ['eggs', 'pepper', 'salt', 'mayonaise', 'cooki...\n",
       "3  22213       indian        ['water', 'vegetable oil', 'wheat', 'salt']\n",
       "4  13162       indian  ['black pepper', 'shallots', 'cornflour', 'cay..."
      ]
     },
     "execution_count": 14,
     "metadata": {},
     "output_type": "execute_result"
    }
   ],
   "source": [
    "data1.head()"
   ]
  },
  {
   "cell_type": "code",
   "execution_count": null,
   "metadata": {},
   "outputs": [],
   "source": []
  }
 ],
 "metadata": {
  "kernelspec": {
   "display_name": "Python 3",
   "language": "python",
   "name": "python3"
  },
  "language_info": {
   "codemirror_mode": {
    "name": "ipython",
    "version": 3
   },
   "file_extension": ".py",
   "mimetype": "text/x-python",
   "name": "python",
   "nbconvert_exporter": "python",
   "pygments_lexer": "ipython3",
   "version": "3.7.0"
  }
 },
 "nbformat": 4,
 "nbformat_minor": 2
}
