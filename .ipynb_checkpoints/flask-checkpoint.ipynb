{
 "cells": [
  {
   "cell_type": "code",
   "execution_count": 1,
   "metadata": {},
   "outputs": [],
   "source": [
    "import pandas as pd\n",
    "from EDA.OutlierHandling import OutlierHandling\n",
    "from EDA.Encoding import Encoding\n",
    "from EDA.NullHandling import NullHandling\n",
    "from EDA.ColumnTypeIdentification import ColumnTypeIdentification\n",
    "from EDA.FeatureReduction import FeatureReduction\n",
    "import warnings\n",
    "warnings.filterwarnings(\"ignore\")\n",
    "import threading\n",
    "from Modelling.Classification import Classification\n",
    "from sklearn.metrics import accuracy_score,f1_score\n",
    "from itertools import product\n",
    "from pathlib import Path"
   ]
  },
  {
   "cell_type": "code",
   "execution_count": 2,
   "metadata": {},
   "outputs": [],
   "source": [
    "from MLAccelerator import MLAccelerator"
   ]
  },
  {
   "cell_type": "code",
   "execution_count": 3,
   "metadata": {},
   "outputs": [],
   "source": [
    "from flask import Flask, render_template, request, redirect, url_for\n",
    "import pandas as pd\n",
    "app = Flask(__name__)\n",
    "\n",
    "# render webpage\n",
    "@app.route('/')\n",
    "def home():\n",
    "    return render_template('Home.html')\n",
    "\n",
    "\n",
    "@app.route('/', methods=['POST', 'GET'])\n",
    "def get_data():\n",
    "    if request.method == 'POST':\n",
    "        flag_list ={}\n",
    "        final_list={}\n",
    "        metric_dict={'accuracy_score':accuracy_score,'f1_score':f1_score}\n",
    "        flag_list['outlier']=request.form.getlist('outlier')\n",
    "        flag_list['nullhandle']=request.form.getlist('nullhandle')\n",
    "        flag_list['feature']=request.form.getlist('feature')\n",
    "        flag_list['encoding']=request.form.getlist('encoding')\n",
    "        flag_list['metric']=request.form.getlist('metric')\n",
    "        flag_list['model']=request.form.getlist('model')\n",
    "        for key in flag_list:\n",
    "            if not flag_list[key]:\n",
    "                final_list[key] = [None]\n",
    "            else:\n",
    "                final_list[key] = flag_list[key]\n",
    "        df = pd.read_csv(request.files.get('file'),delimiter=',')\n",
    "        cols= list(df)\n",
    "        return redirect(url_for('push_data', columns=cols))\n",
    "\n",
    "\n",
    "# get the data for the requested query\n",
    "@app.route('/push_data/<columns>')\n",
    "def push_data(columns):\n",
    "    return render_template('Home.html',data = columns)\n",
    "\n",
    "            "
   ]
  },
  {
   "cell_type": "code",
   "execution_count": null,
   "metadata": {
    "scrolled": true
   },
   "outputs": [
    {
     "name": "stdout",
     "output_type": "stream",
     "text": [
      " * Serving Flask app \"__main__\" (lazy loading)\n",
      " * Environment: production\n",
      "   WARNING: Do not use the development server in a production environment.\n",
      "   Use a production WSGI server instead.\n",
      " * Debug mode: off\n"
     ]
    },
    {
     "name": "stderr",
     "output_type": "stream",
     "text": [
      " * Running on http://127.0.0.1:5000/ (Press CTRL+C to quit)\n",
      "127.0.0.1 - - [19/May/2020 14:22:07] \"GET / HTTP/1.1\" 200 -\n",
      "127.0.0.1 - - [19/May/2020 14:22:07] \"GET /Home_files/font-awesome.min.css HTTP/1.1\" 404 -\n",
      "127.0.0.1 - - [19/May/2020 14:22:14] \"POST / HTTP/1.1\" 302 -\n",
      "127.0.0.1 - - [19/May/2020 14:22:14] \"GET /push_data/Index%28%5B%27PassengerId%27%2C%20%27Survived%27%2C%20%27Pclass%27%2C%20%27Name%27%2C%20%27Sex%27%2C%20%27Age%27%2C%20%27SibSp%27%2C%0A%20%20%20%20%20%20%20%27Parch%27%2C%20%27Ticket%27%2C%20%27Fare%27%2C%20%27Cabin%27%2C%20%27Embarked%27%5D%2C%0A%20%20%20%20%20%20dtype%3D%27object%27%29 HTTP/1.1\" 200 -\n",
      "127.0.0.1 - - [19/May/2020 14:22:14] \"GET /push_data/Home_files/font-awesome.min.css HTTP/1.1\" 404 -\n"
     ]
    }
   ],
   "source": [
    "app.run()"
   ]
  },
  {
   "cell_type": "code",
   "execution_count": null,
   "metadata": {},
   "outputs": [],
   "source": []
  },
  {
   "cell_type": "code",
   "execution_count": null,
   "metadata": {},
   "outputs": [],
   "source": []
  },
  {
   "cell_type": "code",
   "execution_count": 2,
   "metadata": {},
   "outputs": [
    {
     "data": {
      "text/plain": [
       "['PassengerId',\n",
       " 'Survived',\n",
       " 'Pclass',\n",
       " 'Name',\n",
       " 'Sex',\n",
       " 'Age',\n",
       " 'SibSp',\n",
       " 'Parch',\n",
       " 'Ticket',\n",
       " 'Fare',\n",
       " 'Cabin',\n",
       " 'Embarked']"
      ]
     },
     "execution_count": 2,
     "metadata": {},
     "output_type": "execute_result"
    }
   ],
   "source": [
    "import pandas as pd\n",
    "df = pd.read_csv(\"train.csv\")\n",
    "list(df)"
   ]
  },
  {
   "cell_type": "code",
   "execution_count": null,
   "metadata": {},
   "outputs": [],
   "source": [
    "#!/usr/bin/env python\n",
    "# coding: utf-8\n",
    "\n",
    "# In[1]:\n",
    "\n",
    "\n",
    "import pandas as pd\n",
    "from EDA.OutlierHandling import OutlierHandling\n",
    "from EDA.Encoding import Encoding\n",
    "from EDA.NullHandling import NullHandling\n",
    "from EDA.ColumnTypeIdentification import ColumnTypeIdentification\n",
    "from EDA.FeatureReduction import FeatureReduction\n",
    "import warnings\n",
    "warnings.filterwarnings(\"ignore\")\n",
    "import threading\n",
    "from Modelling.Classification import Classification\n",
    "from sklearn.metrics import accuracy_score,f1_score\n",
    "from itertools import product\n",
    "from pathlib import Path\n",
    "import json \n",
    "\n",
    "\n",
    "# In[2]:\n",
    "\n",
    "\n",
    "from MLAccelerator import MLAccelerator\n",
    "\n",
    "\n",
    "# In[3]:\n",
    "\n",
    "\n",
    "from flask import Flask, render_template, request, redirect, url_for\n",
    "import pandas as pd\n",
    "app = Flask(__name__)\n",
    "\n",
    "\n",
    "# render webpage\n",
    "@app.route('/')\n",
    "def index():\n",
    "    return render_template('index.html')\n",
    "\n",
    "\n",
    "@app.route('/upload', methods=['POST', 'GET'])\n",
    "def upload():\n",
    "    if request.method == 'POST':\n",
    "        df = pd.read_csv(request.files.get('file'),delimiter=',')\n",
    "        df.to_csv('dataframe.csv',index= False)\n",
    "        cols= list(df)\n",
    "        return redirect(url_for('push_data', columns=cols))\n",
    "\n",
    "\n",
    "@app.route('/push_data/<columns>')\n",
    "def push_data(columns):\n",
    "    columns = columns.replace('[','').replace(']','').replace(\"'\",'').split(',')\n",
    "    return render_template('Home.html',data = columns)\n",
    "\n",
    "\n",
    "@app.route('/submit',methods=['POST', 'GET'])   \n",
    "def submit():\n",
    "    if request.method == 'POST':\n",
    "        flag_list ={}\n",
    "        final_list={}\n",
    "        cols_list=[]\n",
    "        metric_dict={'accuracy_score':accuracy_score,'f1_score':f1_score}\n",
    "        flag_list['outlier']=request.form.getlist('outlier')\n",
    "        flag_list['nullhandle']=request.form.getlist('nullhandle')\n",
    "        flag_list['feature']=request.form.getlist('feature')\n",
    "        flag_list['encoding']=request.form.getlist('encoding')\n",
    "        flag_list['metric']=request.form.getlist('metric')\n",
    "        flag_list['model']=request.form.getlist('model')\n",
    "        cols_list = request.form.getlist('columns')\n",
    "        for key in flag_list:\n",
    "            if not flag_list[key]:\n",
    "                final_list[key] = [None]\n",
    "            else:\n",
    "                final_list[key] = flag_list[key]\n",
    "        y = request.form['target']\n",
    "        df=pd.read_csv('dataframe.csv')\n",
    "        df1=df[cols_list]\n",
    "        print(df1.head())\n",
    "        return result\n",
    "\n",
    "\n",
    "\n",
    "# In[ ]:\n",
    "\n",
    "app.run()\n",
    "\n",
    "\n",
    "\n",
    "\n"
   ]
  },
  {
   "cell_type": "code",
   "execution_count": null,
   "metadata": {},
   "outputs": [],
   "source": []
  },
  {
   "cell_type": "code",
   "execution_count": null,
   "metadata": {},
   "outputs": [],
   "source": [
    "        y = request.form['target']\n",
    "        ml=MLAccelerator(df,y,final_list,metric_dict)\n",
    "        result=ml.execute()\n",
    "        return result"
   ]
  }
 ],
 "metadata": {
  "kernelspec": {
   "display_name": "Python 3",
   "language": "python",
   "name": "python3"
  },
  "language_info": {
   "codemirror_mode": {
    "name": "ipython",
    "version": 3
   },
   "file_extension": ".py",
   "mimetype": "text/x-python",
   "name": "python",
   "nbconvert_exporter": "python",
   "pygments_lexer": "ipython3",
   "version": "3.7.0"
  }
 },
 "nbformat": 4,
 "nbformat_minor": 2
}
